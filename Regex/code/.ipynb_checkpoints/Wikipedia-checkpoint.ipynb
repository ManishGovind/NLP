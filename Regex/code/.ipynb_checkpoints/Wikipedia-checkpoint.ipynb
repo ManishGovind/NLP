{
 "cells": [
  {
   "cell_type": "markdown",
   "metadata": {},
   "source": [
    "# Structure and Text in Wikipedia\n",
    "\n",
    "In this assignment, you will use regular expressions to process the source wiki of Wikipedia articles with the purpose of:\n",
    "\n",
    "1. Extracting useful information from structures such as piped links and category links.\n",
    "2. Extract the table of contents of the article.\n",
    "2. Extract a clean version of the text that can be used for NLP.\n",
    "    - This is done by removing references, infoboxes, pictures, and categories.\n",
    "    - Piped links *[[string1|string2]]* would need to be replaced with the surface string *string2*."
   ]
  },
  {
   "cell_type": "markdown",
   "metadata": {},
   "source": [
    "## Write Your Name Here:"
   ]
  },
  {
   "cell_type": "markdown",
   "metadata": {},
   "source": [
    "# <font color=\"blue\"> Submission Instructions</font>\n",
    "\n",
    "1. Click the Save button at the top of the Jupyter Notebook.\n",
    "2. Please make sure to have entered your name above.\n",
    "3. Select Cell -> All Output -> Clear. This will clear all the outputs from all cells (but will keep the content of ll cells). \n",
    "4. Select Cell -> Run All. This will run all the cells in order, and will take several minutes.\n",
    "5. Once you've rerun everything, select File -> Download as -> PDF via LaTeX and download a PDF version *wikipedia.pdf* showing the code and the output of all cells, and save it in the same folder that contains the notebook file *wikipedia.ipynb*.\n",
    "6. Look at the PDF file and make sure all your solutions are there, displayed correctly. The PDF is the only thing we will see when grading!\n",
    "7. Submit **both** your PDF and notebook on Canvas.\n",
    "8. Make sure your your Canvas submission contains the correct files by downloading it after posting it on Canvas."
   ]
  },
  {
   "cell_type": "markdown",
   "metadata": {},
   "source": [
    "Read the source of the Wikipedia article. For debugging purposes, you may consider using a shorter article first."
   ]
  },
  {
   "cell_type": "code",
   "execution_count": null,
   "metadata": {},
   "outputs": [],
   "source": [
    "# You can use this shorter article first. \n",
    "# fname = '../data/FM-2030.txt'\n",
    "fname = '../data/University_of_North_Carolina_at_Charlotte.txt'\n",
    "source = open(fname, 'r', encoding = 'utf-8').read()"
   ]
  },
  {
   "cell_type": "markdown",
   "metadata": {},
   "source": [
    "**Task 1.a** (20 points) Design a regular expression *piped* that matches piped strings of the type *[[string1|string2]]*. Use parantheses to group string1 and string2, such that *piped.findall(source)* returns them in a tuple *(string1, string2)*. For example, when run on the source of the UNCC article, the code below should result in a list that starts as *[('Public university', 'Public'), ('University of North Carolina', 'UNC System'), ...]* and that contains 44 elements."
   ]
  },
  {
   "cell_type": "code",
   "execution_count": null,
   "metadata": {},
   "outputs": [],
   "source": [
    "import re\n",
    "\n",
    "piped_re = re.compile(r'YOUR RE GOES HERE')\n",
    "mp = piped_re.findall(source)\n",
    "print('Found', len(mp), 'piped links.')\n",
    "print(mp)"
   ]
  },
  {
   "cell_type": "markdown",
   "metadata": {},
   "source": [
    "**Task 1.b** (15 points)Design a regular expression *categ* that matches category strings of the type *[[Category:name]]*. Use parantheses to group the name part. When run on the source of the UNCC article, the code below should result in a list that starts as *['University of North Carolina at Charlotte| ', 'Educational institutions established in 1946', ...]* and that contains 6 elements."
   ]
  },
  {
   "cell_type": "code",
   "execution_count": null,
   "metadata": {},
   "outputs": [],
   "source": [
    "categ_re = re.compile(r'YOUR RE GOES HERE')\n",
    "mc = categ_re.findall(source)\n",
    "print('Found', len(mc), 'categories.')\n",
    "print(mc)"
   ]
  },
  {
   "cell_type": "markdown",
   "metadata": {},
   "source": [
    "**Task 2** (15 points) Extract the table of contents of the article, i.e. a list of all the section titles in the article. When run on the UNCC article, it should find 33 section titles."
   ]
  },
  {
   "cell_type": "code",
   "execution_count": null,
   "metadata": {},
   "outputs": [],
   "source": [
    "title_re = re.compile(r'YOUR RE GOES HERE')\n",
    "mt = title_re.findall(source)\n",
    "print('found', len(mt), 'titles.')\n",
    "for title in mt:\n",
    "    print(title)"
   ]
  },
  {
   "cell_type": "markdown",
   "metadata": {},
   "source": [
    "**Task 3.a** (20 points) Design a regular expression *ref_re* that matches reference strings enclosed between reference tags \"<ref ...> ... <\\/ref>\" so that they can be eliminated from the document. Beware also of the alternative form \"<ref ...\\/>\"."
   ]
  },
  {
   "cell_type": "code",
   "execution_count": null,
   "metadata": {},
   "outputs": [],
   "source": [
    "ref_re = re.compile(r'YOUR RE GOES HERE')\n",
    "mref = ref_re.findall(source)\n",
    "print('found', len(mref), 'references.')\n",
    "for ref in mref:\n",
    "    print(ref)"
   ]
  },
  {
   "cell_type": "markdown",
   "metadata": {},
   "source": [
    "Remove all references from the source string."
   ]
  },
  {
   "cell_type": "code",
   "execution_count": null,
   "metadata": {},
   "outputs": [],
   "source": [
    "source = ref_re.sub('', source)\n",
    "print(source)"
   ]
  },
  {
   "cell_type": "markdown",
   "metadata": {},
   "source": [
    "**Task 3.b** (20 points) Replace all piped links [[string1|string2]] and [[string2]] with the surface string string2."
   ]
  },
  {
   "cell_type": "code",
   "execution_count": null,
   "metadata": {},
   "outputs": [],
   "source": [
    "pip_re = re.compile(r'YOUR RE GOES HERE')\n",
    "mpip = pip_re.findall(source)\n",
    "print('found', len(mpip), 'piped links.')\n",
    "for pip in mpip:\n",
    "    print(pip)\n",
    "\n",
    "source = pip_re.sub('', source)\n",
    "print(source)"
   ]
  },
  {
   "cell_type": "markdown",
   "metadata": {},
   "source": [
    "**Task 3.c** (15 points) Design a regular expression file_re that matches file strings of the type *[[File: ...]]*. Use the regular expression to remove all file strings from the source."
   ]
  },
  {
   "cell_type": "code",
   "execution_count": null,
   "metadata": {},
   "outputs": [],
   "source": [
    "file_re = re.compile(r'YOUR RE GOES HERE')\n",
    "mfile = file_re.findall(source)\n",
    "print('found', len(mfile), 'file links.')\n",
    "for file in mfile:\n",
    "    print(file)\n",
    "\n",
    "source = file_re.sub('', source)\n",
    "print(source)"
   ]
  },
  {
   "cell_type": "markdown",
   "metadata": {},
   "source": [
    "**Task 3.d** (15 points) Use a regular expression to remove all category links from the source."
   ]
  },
  {
   "cell_type": "code",
   "execution_count": null,
   "metadata": {},
   "outputs": [],
   "source": [
    "categ_re = re.compile(r'YOUR RE GOES HERE')\n",
    "mc = categ_re.findall(source)\n",
    "print('Found', len(mc), 'categories.')\n",
    "print(mc)\n",
    "\n",
    "source = categ_re.sub('', source)\n",
    "print(source)"
   ]
  },
  {
   "cell_type": "markdown",
   "metadata": {},
   "source": [
    "**Task 3.e** (20 points) *Mandatory for graduate students, optional (bonus points) for undergraduate students*\n",
    "\n",
    "- Remove all templates and infoboxes from the source document.\n",
    "    - These are any strings of the type '{{ ... }}'\n",
    "    - Beware that there can be multiple levels of nesting, e.g. '{{ ... {{ .. {{ .... }} .. }} ... }}'. This cannot be matched with regular expressions (explain why)."
   ]
  },
  {
   "cell_type": "code",
   "execution_count": null,
   "metadata": {},
   "outputs": [],
   "source": [
    "def remove_templates(s):\n",
    "    # YOUR CODE GOES HERE\n",
    "    return s\n",
    "\n",
    "source = remove_templates(source)\n",
    "print(source)"
   ]
  },
  {
   "cell_type": "markdown",
   "metadata": {},
   "source": [
    "**Task 3.f** (20 points) *Mandatory for graduate students, optional (bonus points) for undergraduate students*\n",
    "\n",
    "Design a regular expression that finds all occurences of integer numbers in an input strings and uses a substitution to replace them with the equivalent real numbers by appending '.0' to them. Use it to implement the function `realize(s)` below."
   ]
  },
  {
   "cell_type": "code",
   "execution_count": null,
   "metadata": {},
   "outputs": [],
   "source": [
    "def realize(s):\n",
    "    # YOUR CODE HERE\n",
    "    \n",
    "    \n",
    "# This should print 'When we add 4.0 to 1.5 and 0.5 to -2.5 we end up with 5.5 and -2.0.'\n",
    "print(realize('When we add 4 to 1.5 and 0.5 to -2.5 we end up with 5.5 and -2.'))"
   ]
  },
  {
   "cell_type": "markdown",
   "metadata": {},
   "source": [
    "**Task 3.g [10 + 10 Bonus points]**\n",
    "\n",
    "* Design a search-and-replace function based on the `sub()` method for regular expressions that finds all occurences of integer numbers in an input strings and replaces them with an incremented version. Use it to implement the function `increment(s)` below.\n",
    "\n",
    "* Design a search-and-replace function based on the `sub()` method for regular expressions that finds all whitespace separated tokens (like `str.split()`) and replaces them with a copy that has `_` appended to it.\n",
    "\n",
    "*Hint: Read the <a href=\"https://docs.python.org/3/howto/regex.html\">documentation</a> on the `sub()` function to see how to use it with a function argument.*"
   ]
  },
  {
   "cell_type": "code",
   "execution_count": null,
   "metadata": {},
   "outputs": [],
   "source": [
    "def increment(s):\n",
    "    # YOUR CODE HERE\n",
    "    \n",
    "\n",
    "    \n",
    "# This should print 'Eve has 6 apples. She gives 4 to Adam and the remaining 3 to the snake.'\n",
    "print(increment('Eve has 5 apples. She gives 3 to Adam and the remaining 2 to the snake.'))\n",
    "\n",
    "def underscore(s):\n",
    "     # YOUR CODE HERE\n",
    "        \n",
    "        \n",
    "# This should print 'Eve_ has_ 5_    apples._'        \n",
    "print(underscore('Eve has 5    apples.'))"
   ]
  },
  {
   "cell_type": "markdown",
   "metadata": {},
   "source": [
    "**Task 4 [Bonus points]** Anything extra goes here."
   ]
  },
  {
   "cell_type": "code",
   "execution_count": null,
   "metadata": {},
   "outputs": [],
   "source": []
  }
 ],
 "metadata": {
  "kernelspec": {
   "display_name": "Python 3 (ipykernel)",
   "language": "python",
   "name": "python3"
  },
  "language_info": {
   "codemirror_mode": {
    "name": "ipython",
    "version": 3
   },
   "file_extension": ".py",
   "mimetype": "text/x-python",
   "name": "python",
   "nbconvert_exporter": "python",
   "pygments_lexer": "ipython3",
   "version": "3.10.9"
  }
 },
 "nbformat": 4,
 "nbformat_minor": 4
}
